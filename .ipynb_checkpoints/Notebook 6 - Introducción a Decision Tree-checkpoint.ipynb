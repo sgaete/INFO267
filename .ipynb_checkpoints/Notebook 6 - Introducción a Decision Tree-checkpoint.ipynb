{
 "cells": [
  {
   "cell_type": "markdown",
   "metadata": {},
   "source": [
    "## Notebook 6: Decision Tree"
   ]
  },
  {
   "cell_type": "markdown",
   "metadata": {},
   "source": [
    "Este notebook está basado en varios videos sobre Machine Learning elaborados por <i>Google Developers</i> en Youtube. Ver: <i><a href=\"https://www.youtube.com/watch?v=cKxRvEZd3Mw\"> Machine Learning Recipes</a></i>."
   ]
  },
  {
   "cell_type": "markdown",
   "metadata": {},
   "source": [
    "Este notebook se divide en 2 partes:\n",
    "- En la primera parte se aplica un algoritmo de Árbol de Decisión para aprender un modelo capaz de clasificar los datos del dataset \"Titanic\" (visto en un notebook anterior). Compararemos su precision y recall con otros algoritmos de clasificación (kNN, Regresión Logística y Random Forest).\n",
    "- En la segunda parte se implenta un algoritmo de Árbol de Decisión <i>from scratch</i> (desde cero) en Python para identificar sus características más precisamente."
   ]
  },
  {
   "cell_type": "markdown",
   "metadata": {},
   "source": [
    "# PARTE I\n",
    "\n",
    "## 0. Preparar el dataset 'Titanic' \n",
    "\n",
    "Como en un notebook anterior, vamos a utilizar el dataset 'Titanic' con el cuál se tratar de predicir si una persona va a sobrevivir o no dadas algunas características (edad, genero, n° de niños, etc.).\n",
    "\n",
    "En primera instancia, vamos a aplicar nuevamente todos los procesos para preparar el dataset y cargarlo en un DataFrame."
   ]
  },
  {
   "cell_type": "code",
   "execution_count": 206,
   "metadata": {},
   "outputs": [],
   "source": [
    "import warnings\n",
    "warnings.filterwarnings('ignore')\n",
    "import numpy as np  \n",
    "import matplotlib.pyplot as plt  \n",
    "import pandas as pd \n",
    "\n",
    "def age_approx(cols):\n",
    "    Age = cols[0]\n",
    "    Pclass = cols[1]\n",
    "    \n",
    "    if pd.isnull(Age):\n",
    "        if Pclass == 1:\n",
    "            return 37\n",
    "        elif Pclass == 2:\n",
    "            return 29\n",
    "        else:\n",
    "            return 24\n",
    "    else:\n",
    "        return Age\n",
    "\n",
    "# Read dataset to pandas dataframe\n",
    "url = 'https://raw.githubusercontent.com/BigDataGal/Python-for-Data-Science/master/titanic-train.csv'\n",
    "titanic = pd.read_csv(url)\n",
    "titanic.columns = ['PassengerId','Survived','Pclass','Name','Sex','Age','SibSp','Parch','Ticket','Fare','Cabin','Embarked']\n",
    "titanic_data = titanic.drop(['PassengerId','Name','Ticket','Cabin'], 1)\n",
    "\n",
    "titanic_data['Age'] = titanic_data[['Age', 'Pclass']].apply(age_approx, axis=1)\n",
    "titanic_data.isnull().sum()\n",
    "\n",
    "titanic_data.dropna(inplace=True)\n",
    "titanic_data.isnull().sum()\n",
    "\n",
    "gender = pd.get_dummies(titanic_data['Sex'],drop_first=True)\n",
    "embark_location = pd.get_dummies(titanic_data['Embarked'],drop_first=True)\n",
    "\n",
    "titanic_data.drop(['Sex', 'Embarked'],axis=1,inplace=True)\n",
    "\n",
    "titanic_dmy = pd.concat([titanic_data,gender,embark_location],axis=1)\n",
    "\n",
    "X = titanic_dmy.ix[:,(1,2,3,4,5,6,7,8)].values\n",
    "y = titanic_dmy.ix[:,0].values"
   ]
  },
  {
   "cell_type": "markdown",
   "metadata": {},
   "source": [
    "## 1. Entrenar un clasificador de tipo DecisionTree "
   ]
  },
  {
   "cell_type": "code",
   "execution_count": 209,
   "metadata": {},
   "outputs": [
    {
     "name": "stdout",
     "output_type": "stream",
     "text": [
      "[[133  31]\n",
      " [ 25  78]]\n",
      "             precision    recall  f1-score   support\n",
      "\n",
      "          0       0.84      0.81      0.83       164\n",
      "          1       0.72      0.76      0.74       103\n",
      "\n",
      "avg / total       0.79      0.79      0.79       267\n",
      "\n"
     ]
    }
   ],
   "source": [
    "\n",
    "from sklearn.cross_validation import train_test_split\n",
    "X_train, X_test, y_train, y_test = train_test_split(X, y, test_size = .3, random_state=25)\n",
    "\n",
    "from sklearn import tree\n",
    "#Entrenamiento\n",
    "clf = tree.DecisionTreeClassifier()\n",
    "clf = clf.fit(X_train,y_train)\n",
    "#Predicciones\n",
    "y_pred = clf.predict(X_test)\n",
    "#Evaluación del rendimiento del clasificador\n",
    "from sklearn.metrics import confusion_matrix\n",
    "confusion_matrix = confusion_matrix(y_test, y_pred)\n",
    "print(confusion_matrix)\n",
    "#Print de la matriz de confusión\n",
    "from sklearn.metrics import classification_report\n",
    "print(classification_report(y_test, y_pred))"
   ]
  },
  {
   "cell_type": "markdown",
   "metadata": {},
   "source": [
    "Los modelos de clasificación de tipo DecisionTree tienen una caracteristica interesante (en comparación con otros algoritmos de clasificación): se puede <b>visualizar</b> el modelo y <b>entender</b> cómo toma decisiones. El código de la celda siguiente permite visualizar el modelo que hemos aprendidó."
   ]
  },
  {
   "cell_type": "code",
   "execution_count": 5,
   "metadata": {},
   "outputs": [],
   "source": [
    "from sklearn.externals.six import StringIO\n",
    "import pydot #sudo python3.6 -m pip install pydot\n",
    "\n",
    "dot_data = StringIO()\n",
    "\n",
    "features=['Pclass','Age','SibSp','Parch','Fare','male','Q', 'S']\n",
    "classes=['yes','no']\n",
    "tree.export_graphviz(clf,out_file=dot_data,feature_names=features,class_names=classes, filled=True, \n",
    "                     rounded=True, impurity=False)\n",
    "\n",
    "graph = pydot.graph_from_dot_data(dot_data.getvalue())\n",
    "graph[0].write_png('modelo.png')"
   ]
  },
  {
   "cell_type": "markdown",
   "metadata": {},
   "source": [
    "<img src=\"modelo.png\">Modelo DecisionTree</img>"
   ]
  },
  {
   "cell_type": "code",
   "execution_count": 6,
   "metadata": {},
   "outputs": [
    {
     "name": "stderr",
     "output_type": "stream",
     "text": [
      "/usr/local/lib/python3.6/dist-packages/sklearn/ensemble/weight_boosting.py:29: DeprecationWarning: numpy.core.umath_tests is an internal NumPy module and should not be imported. It will be removed in a future NumPy release.\n",
      "  from numpy.core.umath_tests import inner1d\n"
     ]
    }
   ],
   "source": [
    "from sklearn.ensemble import RandomForestClassifier\n",
    "\n",
    "clf = RandomForestClassifier(n_estimators=10)\n",
    "clf = clf.fit(X_train, y_train)"
   ]
  },
  {
   "cell_type": "code",
   "execution_count": 7,
   "metadata": {},
   "outputs": [
    {
     "name": "stdout",
     "output_type": "stream",
     "text": [
      "[[140  24]\n",
      " [ 26  77]]\n",
      "             precision    recall  f1-score   support\n",
      "\n",
      "          0       0.84      0.85      0.85       164\n",
      "          1       0.76      0.75      0.75       103\n",
      "\n",
      "avg / total       0.81      0.81      0.81       267\n",
      "\n"
     ]
    }
   ],
   "source": [
    "#Predicciones\n",
    "y_pred = clf.predict(X_test)\n",
    "#Evaluación del rendimiento del clasificador\n",
    "from sklearn.metrics import confusion_matrix\n",
    "confusion_matrix = confusion_matrix(y_test, y_pred)\n",
    "print(confusion_matrix)\n",
    "#Print de la matriz de confusión\n",
    "from sklearn.metrics import classification_report\n",
    "print(classification_report(y_test, y_pred))"
   ]
  },
  {
   "cell_type": "markdown",
   "metadata": {},
   "source": [
    "<b>Pregunta</b>:\n",
    "- Para resolver el problema de clasificación del dataset 'Titanic', ¿Cuál algoritmo parece funcionar mejor entre kNN, Regresión Logística, DecisionTree o Random Forest?\n",
    "- ¿Por qué Random Forest funciona mejor que Decision Tree? ¿Cuál es la particularidad de Random Forest?"
   ]
  },
  {
   "cell_type": "markdown",
   "metadata": {},
   "source": [
    "# PARTE 2\n",
    "\n",
    "## Implementar un algoritmo DecisionTree desde cero"
   ]
  },
  {
   "cell_type": "markdown",
   "metadata": {},
   "source": [
    "Este ejercicio se base en la video: https://www.youtube.com/watch?v=LDRbO9a6XPU"
   ]
  },
  {
   "cell_type": "markdown",
   "metadata": {},
   "source": [
    "Para entender más precisamente cómo y qué <b>aprenden</b> los algoritmos de tipo Decision Tree, implantamos a continuación un algoritmo desde cero en Python. En camino, presentaremos los conceptos de <b>Gini impurity</b> e <b>Information Gain</b>."
   ]
  },
  {
   "cell_type": "markdown",
   "metadata": {},
   "source": [
    "<b>a. Algoritmos de tipo Decision Tree: El ejemplo de CART</b>\n",
    "\n",
    "Existen varias variaciones de algoritmos Decision Tree, entre las cuales: ID3, C4.5, C5.0, CART <a href=\"https://en.wikipedia.org/wiki/Decision_tree\">(ver wikipedia)</a>\n",
    "Cada algoritmo comparta la misma idea: a cada nivel del árbol de decisión, el modelo formula una pregunta permitiendo poco a poco de llegar a una predicción. ¿Cómo el algoritmo sabe qué preguntas hacer y en qué orden? Es lo que vamos a responder a través del ejemplo de CART. \n",
    "\n",
    "CART (Classification and Regression Trees) inicializa la raíz del árbol con el dataset de entranemiento completo (ver Figura). Luego busca dividir los datos del dataset con una pregunta. Los nodos siguientes reciben solamente los datos que corresponde a la respuesta. Se reitera este proceso hasta desenredar totalmente los datos (cada hoja del árbol debería tener idealmente un solo tipo de label)."
   ]
  },
  {
   "cell_type": "markdown",
   "metadata": {},
   "source": [
    "<img src=\"./CART.png\"></img>"
   ]
  },
  {
   "cell_type": "markdown",
   "metadata": {},
   "source": [
    "En nuestro ejemplo, el nodo 1 está totalmente desenredado (label: \"Grape\"). El nodo 2 tiene dos labeles, entonces preguntamos otra pregunta:"
   ]
  },
  {
   "cell_type": "markdown",
   "metadata": {},
   "source": [
    "<img src=\"./CART2.png\"></img>"
   ]
  },
  {
   "cell_type": "markdown",
   "metadata": {},
   "source": [
    "Para construir un árbol eficiente, el punto importante es identificar qué preguntas formular y cuando. Por lo tanto, necesitamos <b>cuantificar</b> en qué medida una pregunta permite desenredar los labeles. Para hacer eso se utiliza 2 métricas:\n",
    "- el coeficiente de '<b>Gini impurity</b>': mide que tan desenredados están los labeles de un nodo.\n",
    "- el coeficiente de '<b>Information Gain</b>': mide cuánto una pregunta permite bajar el 'Gini impurity'."
   ]
  },
  {
   "cell_type": "markdown",
   "metadata": {},
   "source": [
    "<img src=\"./CART3.png\"></img>"
   ]
  },
  {
   "cell_type": "markdown",
   "metadata": {},
   "source": [
    "Utilizaremos estas métricas para estimar qué preguntas hacer."
   ]
  },
  {
   "cell_type": "markdown",
   "metadata": {},
   "source": [
    "<b>b. ¿Qué preguntas formular?</b>"
   ]
  },
  {
   "cell_type": "markdown",
   "metadata": {},
   "source": [
    "<img src=\"./CART4.png\"></img>"
   ]
  },
  {
   "cell_type": "markdown",
   "metadata": {},
   "source": [
    "Para saber qué preguntas formular, cada nodo itera sobre las características de los datos a su disposición y define una lista de preguntas posibles."
   ]
  },
  {
   "cell_type": "markdown",
   "metadata": {},
   "source": [
    "<b>c. Partición del dataset</b>\n",
    "\n",
    "Una vez una pregunta elegida, se divide los datos en dos según la respuesta a la pregunta."
   ]
  },
  {
   "cell_type": "markdown",
   "metadata": {},
   "source": [
    "<img src=\"./CART5.png\"></img>"
   ]
  },
  {
   "cell_type": "markdown",
   "metadata": {},
   "source": [
    "<b>d. Coeficiente de Gini impurity</b>\n",
    "\n",
    "El coeficiente de Gini impurity representa la probabilidad de ser incorrecto si asigna aleatoriamente una etiqueta a un ejemplo del mismo conjunto. Por ejemplo, en los dos ejemplos siguientes: ¿Cuál es la probabilidad de equivocarse si asignamos una etiqueta del recipiente B a un dato del recipiente A?\n",
    "\n",
    "Ejemplo 1:\n",
    "<img src=\"./CART-6.png\"></img>\n",
    "\n",
    "Ejemplo 2:\n",
    "<img src=\"./CART-7.png\"></img>"
   ]
  },
  {
   "cell_type": "markdown",
   "metadata": {},
   "source": [
    "<b>e. Information Gain </b>\n",
    "\n",
    "La métrica de Information Gain permite medir qué pregunta optimiza el coeficiente de Gini impurity.\n",
    "\n",
    "Por cada nodo, empezamos por medir el coeficiente de Gini impurity de los labeles disponibles. Luego, por cada pregunta calculamos el coeficiente de Gini impurity de los dos sub-conjuntos de datos obtenidos.\n",
    "\n",
    "<img src=\"CART-8.png\"></img>\n",
    "\n",
    "Calculamos la incerteza (<i>impurity</i>) promedia ponderada para los dos subconjuntos de datos obtenidos. Por ejemplo:\n",
    "\n",
    "<img src=\"CART-9.png\"></img>\n",
    "\n",
    "Finalmente, conservamos la pregunta que permite optimizar la ganancia de información (Information Gain). En nuestro ejemplo:\n",
    "\n",
    "<b>Information Gain = 0.64 - 0.15 = 0.14</b>"
   ]
  },
  {
   "cell_type": "markdown",
   "metadata": {},
   "source": [
    "## Código del Decision Tree desde cero...\n",
    "\n",
    "<b>a. Dataset</b>\n",
    "\n",
    "Tenemos un dataset muy simple, constituido por 2 características y un label. En nuestro escenario, se trata de predecir cuál es la fruta a partir de su color y tamaño. Están libre de agregar nuevos ejemplos en el dataset para experimentar los cambios generados en el modelo...  "
   ]
  },
  {
   "cell_type": "code",
   "execution_count": 1,
   "metadata": {},
   "outputs": [],
   "source": [
    "# Toy dataset.\n",
    "# Format: each row is an example.\n",
    "# The last column is the label.\n",
    "# The first two columns are features.\n",
    "# Feel free to play with it by adding more features & examples.\n",
    "# Interesting note: I've written this so the 2nd and 5th examples\n",
    "# have the same features, but different labels - so we can see how the\n",
    "# tree handles this case.\n",
    "training_data = [\n",
    "    ['Green', 3, 'Apple'],\n",
    "    ['Yellow', 3, 'Apple'],\n",
    "    ['Red', 1, 'Grape'],\n",
    "    ['Red', 1, 'Grape'],\n",
    "    ['Yellow', 3, 'Lemon'],\n",
    "]"
   ]
  },
  {
   "cell_type": "markdown",
   "metadata": {},
   "source": [
    "Creamos una variable para indicar los nombres de cada columna del dataset:"
   ]
  },
  {
   "cell_type": "code",
   "execution_count": 2,
   "metadata": {},
   "outputs": [],
   "source": [
    "# Column labels.\n",
    "# These are used only to print the tree.\n",
    "header = [\"color\", \"diameter\", \"label\"]"
   ]
  },
  {
   "cell_type": "markdown",
   "metadata": {},
   "source": [
    "En el dataset, pueden observar que nuestros datos no son linealmente separable. Una observación de manzana y una observación de limón tienen las mismas características (segundo y quinto ejemplos del dataset). Vamos a observar cómo el algoritmo Decision Tree gestiona estos ejemplos."
   ]
  },
  {
   "cell_type": "markdown",
   "metadata": {},
   "source": [
    "<b>c. Funciones de utilidad</b>:\n",
    "\n",
    "A continuación creamos una serie de funciones Python para facilitar la observación de nuestro dataset de entrenamiento. Por cada función, creamos una pequeña demo en la celda siguiente."
   ]
  },
  {
   "cell_type": "code",
   "execution_count": 3,
   "metadata": {},
   "outputs": [],
   "source": [
    "def unique_vals(rows, col):\n",
    "    \"\"\"Find the unique values for a column in a dataset.\"\"\"\n",
    "    return set([row[col] for row in rows])"
   ]
  },
  {
   "cell_type": "code",
   "execution_count": 4,
   "metadata": {},
   "outputs": [
    {
     "data": {
      "text/plain": [
       "{'Green', 'Red', 'Yellow'}"
      ]
     },
     "execution_count": 4,
     "metadata": {},
     "output_type": "execute_result"
    }
   ],
   "source": [
    "#######\n",
    "# Demo:\n",
    "unique_vals(training_data, 0)\n",
    "# unique_vals(training_data, 1)\n",
    "#######"
   ]
  },
  {
   "cell_type": "code",
   "execution_count": 5,
   "metadata": {},
   "outputs": [],
   "source": [
    "def class_counts(rows):\n",
    "    \"\"\"Counts the number of each type of example in a dataset.\"\"\"\n",
    "    counts = {}  # a dictionary of label -> count.\n",
    "    for row in rows:\n",
    "        # in our dataset format, the label is always the last column\n",
    "        label = row[-1]\n",
    "        if label not in counts:\n",
    "            counts[label] = 0\n",
    "        counts[label] += 1\n",
    "    return counts"
   ]
  },
  {
   "cell_type": "code",
   "execution_count": 6,
   "metadata": {},
   "outputs": [
    {
     "data": {
      "text/plain": [
       "{'Apple': 2, 'Grape': 2, 'Lemon': 1}"
      ]
     },
     "execution_count": 6,
     "metadata": {},
     "output_type": "execute_result"
    }
   ],
   "source": [
    "#######\n",
    "# Demo:\n",
    "class_counts(training_data)\n",
    "#######"
   ]
  },
  {
   "cell_type": "code",
   "execution_count": 7,
   "metadata": {},
   "outputs": [
    {
     "data": {
      "text/plain": [
       "True"
      ]
     },
     "execution_count": 7,
     "metadata": {},
     "output_type": "execute_result"
    }
   ],
   "source": [
    "def is_numeric(value):\n",
    "    \"\"\"Test if a value is numeric.\"\"\"\n",
    "    return isinstance(value, int) or isinstance(value, float)\n",
    "#######\n",
    "# Demo:\n",
    "is_numeric(7)\n",
    "# is_numeric(\"Red\")\n",
    "#######"
   ]
  },
  {
   "cell_type": "code",
   "execution_count": 8,
   "metadata": {},
   "outputs": [],
   "source": [
    "class Question:\n",
    "    \"\"\"A Question is used to partition a dataset.\n",
    "\n",
    "    This class just records a 'column number' (e.g., 0 for Color) and a\n",
    "    'column value' (e.g., Green). The 'match' method is used to compare\n",
    "    the feature value in an example to the feature value stored in the\n",
    "    question. See the demo below.\n",
    "    \"\"\"\n",
    "\n",
    "    def __init__(self, column, value):\n",
    "        self.column = column\n",
    "        self.value = value\n",
    "\n",
    "    def match(self, example):\n",
    "        # Compare the feature value in an example to the\n",
    "        # feature value in this question.\n",
    "        val = example[self.column]\n",
    "        if is_numeric(val):\n",
    "            return val >= self.value\n",
    "        else:\n",
    "            return val == self.value\n",
    "\n",
    "    def __repr__(self):\n",
    "        # This is just a helper method to print\n",
    "        # the question in a readable format.\n",
    "        condition = \"==\"\n",
    "        if is_numeric(self.value):\n",
    "            condition = \">=\"\n",
    "        return \"Is %s %s %s?\" % (\n",
    "            header[self.column], condition, str(self.value))"
   ]
  },
  {
   "cell_type": "code",
   "execution_count": 9,
   "metadata": {},
   "outputs": [
    {
     "data": {
      "text/plain": [
       "Is diameter >= 3?"
      ]
     },
     "execution_count": 9,
     "metadata": {},
     "output_type": "execute_result"
    }
   ],
   "source": [
    "#######\n",
    "# Demo:\n",
    "# Let's write a question for a numeric attribute\n",
    "Question(1, 3)"
   ]
  },
  {
   "cell_type": "code",
   "execution_count": 10,
   "metadata": {},
   "outputs": [
    {
     "data": {
      "text/plain": [
       "Is color == Green?"
      ]
     },
     "execution_count": 10,
     "metadata": {},
     "output_type": "execute_result"
    }
   ],
   "source": [
    "# How about one for a categorical attribute\n",
    "q = Question(0, 'Green')\n",
    "q"
   ]
  },
  {
   "cell_type": "code",
   "execution_count": 11,
   "metadata": {},
   "outputs": [
    {
     "data": {
      "text/plain": [
       "True"
      ]
     },
     "execution_count": 11,
     "metadata": {},
     "output_type": "execute_result"
    }
   ],
   "source": [
    "# Let's pick an example from the training set...\n",
    "example = training_data[0]\n",
    "# ... and see if it matches the question\n",
    "q.match(example) # this will be true, since the first example is Green.\n",
    "#######"
   ]
  },
  {
   "cell_type": "code",
   "execution_count": 12,
   "metadata": {},
   "outputs": [],
   "source": [
    "def partition(rows, question):\n",
    "    \"\"\"Partitions a dataset.\n",
    "\n",
    "    For each row in the dataset, check if it matches the question. If\n",
    "    so, add it to 'true rows', otherwise, add it to 'false rows'.\n",
    "    \"\"\"\n",
    "    true_rows, false_rows = [], []\n",
    "    for row in rows:\n",
    "        if question.match(row):\n",
    "            true_rows.append(row)\n",
    "        else:\n",
    "            false_rows.append(row)\n",
    "    return true_rows, false_rows"
   ]
  },
  {
   "cell_type": "code",
   "execution_count": 13,
   "metadata": {},
   "outputs": [
    {
     "data": {
      "text/plain": [
       "[['Red', 1, 'Grape'], ['Red', 1, 'Grape']]"
      ]
     },
     "execution_count": 13,
     "metadata": {},
     "output_type": "execute_result"
    }
   ],
   "source": [
    "#######\n",
    "# Demo:\n",
    "# Let's partition the training data based on whether rows are Red.\n",
    "true_rows, false_rows = partition(training_data, Question(0, 'Red'))\n",
    "# This will contain all the 'Red' rows.\n",
    "true_rows"
   ]
  },
  {
   "cell_type": "code",
   "execution_count": 14,
   "metadata": {},
   "outputs": [
    {
     "data": {
      "text/plain": [
       "[['Green', 3, 'Apple'], ['Yellow', 3, 'Apple'], ['Yellow', 3, 'Lemon']]"
      ]
     },
     "execution_count": 14,
     "metadata": {},
     "output_type": "execute_result"
    }
   ],
   "source": [
    "# This will contain everything else.\n",
    "false_rows\n",
    "#######"
   ]
  },
  {
   "cell_type": "code",
   "execution_count": 15,
   "metadata": {},
   "outputs": [],
   "source": [
    "def gini(rows):\n",
    "    \"\"\"Calculate the Gini Impurity for a list of rows.\n",
    "\n",
    "    There are a few different ways to do this, I thought this one was\n",
    "    the most concise. See:\n",
    "    https://en.wikipedia.org/wiki/Decision_tree_learning#Gini_impurity\n",
    "    \"\"\"\n",
    "    counts = class_counts(rows)\n",
    "    impurity = 1\n",
    "    for lbl in counts:\n",
    "        prob_of_lbl = counts[lbl] / float(len(rows))\n",
    "        impurity -= prob_of_lbl**2\n",
    "    return impurity"
   ]
  },
  {
   "cell_type": "code",
   "execution_count": 16,
   "metadata": {},
   "outputs": [
    {
     "data": {
      "text/plain": [
       "0.0"
      ]
     },
     "execution_count": 16,
     "metadata": {},
     "output_type": "execute_result"
    }
   ],
   "source": [
    "#######\n",
    "# Demo:\n",
    "# Let's look at some example to understand how Gini Impurity works.\n",
    "#\n",
    "# First, we'll look at a dataset with no mixing.\n",
    "no_mixing = [['Apple'],\n",
    "              ['Apple']]\n",
    "# this will return 0\n",
    "gini(no_mixing)"
   ]
  },
  {
   "cell_type": "code",
   "execution_count": 17,
   "metadata": {},
   "outputs": [
    {
     "data": {
      "text/plain": [
       "0.5"
      ]
     },
     "execution_count": 17,
     "metadata": {},
     "output_type": "execute_result"
    }
   ],
   "source": [
    "# Now, we'll look at dataset with a 50:50 apples:oranges ratio\n",
    "some_mixing = [['Apple'],\n",
    "               ['Orange']]\n",
    "# this will return 0.5 - meaning, there's a 50% chance of misclassifying\n",
    "# a random example we draw from the dataset.\n",
    "gini(some_mixing)"
   ]
  },
  {
   "cell_type": "code",
   "execution_count": 18,
   "metadata": {},
   "outputs": [
    {
     "data": {
      "text/plain": [
       "0.7999999999999998"
      ]
     },
     "execution_count": 18,
     "metadata": {},
     "output_type": "execute_result"
    }
   ],
   "source": [
    "# Now, we'll look at a dataset with many different labels\n",
    "lots_of_mixing = [['Apple'],\n",
    "                  ['Orange'],\n",
    "                  ['Grape'],\n",
    "                  ['Grapefruit'],\n",
    "                  ['Blueberry']]\n",
    "# This will return 0.8\n",
    "gini(lots_of_mixing)\n",
    "#######"
   ]
  },
  {
   "cell_type": "code",
   "execution_count": 19,
   "metadata": {},
   "outputs": [],
   "source": [
    "def info_gain(left, right, current_uncertainty):\n",
    "    \"\"\"Information Gain.\n",
    "\n",
    "    The uncertainty of the starting node, minus the weighted impurity of\n",
    "    two child nodes.\n",
    "    \"\"\"\n",
    "    p = float(len(left)) / (len(left) + len(right))\n",
    "    return current_uncertainty - p * gini(left) - (1 - p) * gini(right)"
   ]
  },
  {
   "cell_type": "code",
   "execution_count": 20,
   "metadata": {},
   "outputs": [
    {
     "data": {
      "text/plain": [
       "0.6399999999999999"
      ]
     },
     "execution_count": 20,
     "metadata": {},
     "output_type": "execute_result"
    }
   ],
   "source": [
    "#######\n",
    "# Demo:\n",
    "# Calculate the uncertainy of our training data.\n",
    "current_uncertainty = gini(training_data)\n",
    "current_uncertainty"
   ]
  },
  {
   "cell_type": "code",
   "execution_count": 21,
   "metadata": {},
   "outputs": [
    {
     "data": {
      "text/plain": [
       "0.1399999999999999"
      ]
     },
     "execution_count": 21,
     "metadata": {},
     "output_type": "execute_result"
    }
   ],
   "source": [
    "# How much information do we gain by partioning on 'Green'?\n",
    "true_rows, false_rows = partition(training_data, Question(0, 'Green'))\n",
    "info_gain(true_rows, false_rows, current_uncertainty)"
   ]
  },
  {
   "cell_type": "code",
   "execution_count": 22,
   "metadata": {},
   "outputs": [
    {
     "data": {
      "text/plain": [
       "0.37333333333333324"
      ]
     },
     "execution_count": 22,
     "metadata": {},
     "output_type": "execute_result"
    }
   ],
   "source": [
    "# What about if we partioned on 'Red' instead?\n",
    "true_rows, false_rows = partition(training_data, Question(0,'Red'))\n",
    "info_gain(true_rows, false_rows, current_uncertainty)"
   ]
  },
  {
   "cell_type": "code",
   "execution_count": 23,
   "metadata": {},
   "outputs": [
    {
     "data": {
      "text/plain": [
       "[['Red', 1, 'Grape'], ['Red', 1, 'Grape']]"
      ]
     },
     "execution_count": 23,
     "metadata": {},
     "output_type": "execute_result"
    }
   ],
   "source": [
    "# It looks like we learned more using 'Red' (0.37), than 'Green' (0.14).\n",
    "# Why? Look at the different splits that result, and see which one\n",
    "# looks more 'unmixed' to you.\n",
    "true_rows, false_rows = partition(training_data, Question(0,'Red'))\n",
    "\n",
    "# Here, the true_rows contain only 'Grapes'.\n",
    "true_rows"
   ]
  },
  {
   "cell_type": "code",
   "execution_count": 24,
   "metadata": {},
   "outputs": [
    {
     "data": {
      "text/plain": [
       "[['Green', 3, 'Apple'], ['Yellow', 3, 'Apple'], ['Yellow', 3, 'Lemon']]"
      ]
     },
     "execution_count": 24,
     "metadata": {},
     "output_type": "execute_result"
    }
   ],
   "source": [
    "# And the false rows contain two types of fruit. Not too bad.\n",
    "false_rows"
   ]
  },
  {
   "cell_type": "code",
   "execution_count": 25,
   "metadata": {},
   "outputs": [
    {
     "data": {
      "text/plain": [
       "[['Green', 3, 'Apple']]"
      ]
     },
     "execution_count": 25,
     "metadata": {},
     "output_type": "execute_result"
    }
   ],
   "source": [
    "# On the other hand, partitioning by Green doesn't help so much.\n",
    "true_rows, false_rows = partition(training_data, Question(0,'Green'))\n",
    "\n",
    "# We've isolated one apple in the true rows.\n",
    "true_rows"
   ]
  },
  {
   "cell_type": "code",
   "execution_count": 26,
   "metadata": {},
   "outputs": [
    {
     "data": {
      "text/plain": [
       "[['Yellow', 3, 'Apple'],\n",
       " ['Red', 1, 'Grape'],\n",
       " ['Red', 1, 'Grape'],\n",
       " ['Yellow', 3, 'Lemon']]"
      ]
     },
     "execution_count": 26,
     "metadata": {},
     "output_type": "execute_result"
    }
   ],
   "source": [
    "# But, the false-rows are badly mixed up.\n",
    "false_rows\n",
    "#######"
   ]
  },
  {
   "cell_type": "code",
   "execution_count": 27,
   "metadata": {},
   "outputs": [],
   "source": [
    "def find_best_split(rows):\n",
    "    \"\"\"Find the best question to ask by iterating over every feature / value\n",
    "    and calculating the information gain.\"\"\"\n",
    "    best_gain = 0  # keep track of the best information gain\n",
    "    best_question = None  # keep train of the feature / value that produced it\n",
    "    current_uncertainty = gini(rows)\n",
    "    n_features = len(rows[0]) - 1  # number of columns\n",
    "\n",
    "    for col in range(n_features):  # for each feature\n",
    "\n",
    "        values = set([row[col] for row in rows])  # unique values in the column\n",
    "\n",
    "        for val in values:  # for each value\n",
    "\n",
    "            question = Question(col, val)\n",
    "\n",
    "            # try splitting the dataset\n",
    "            true_rows, false_rows = partition(rows, question)\n",
    "\n",
    "            # Skip this split if it doesn't divide the\n",
    "            # dataset.\n",
    "            if len(true_rows) == 0 or len(false_rows) == 0:\n",
    "                continue\n",
    "\n",
    "            # Calculate the information gain from this split\n",
    "            gain = info_gain(true_rows, false_rows, current_uncertainty)\n",
    "\n",
    "            # You actually can use '>' instead of '>=' here\n",
    "            # but I wanted the tree to look a certain way for our\n",
    "            # toy dataset.\n",
    "            if gain >= best_gain:\n",
    "                best_gain, best_question = gain, question\n",
    "\n",
    "    return best_gain, best_question"
   ]
  },
  {
   "cell_type": "code",
   "execution_count": 28,
   "metadata": {},
   "outputs": [
    {
     "data": {
      "text/plain": [
       "Is diameter >= 3?"
      ]
     },
     "execution_count": 28,
     "metadata": {},
     "output_type": "execute_result"
    }
   ],
   "source": [
    "#######\n",
    "# Demo:\n",
    "# Find the best question to ask first for our toy dataset.\n",
    "best_gain, best_question = find_best_split(training_data)\n",
    "best_question\n",
    "# FYI: is color == Red is just as good. See the note in the code above\n",
    "# where I used '>='.\n",
    "#######"
   ]
  },
  {
   "cell_type": "code",
   "execution_count": 29,
   "metadata": {},
   "outputs": [],
   "source": [
    "class Leaf:\n",
    "    \"\"\"A Leaf node classifies data.\n",
    "\n",
    "    This holds a dictionary of class (e.g., \"Apple\") -> number of times\n",
    "    it appears in the rows from the training data that reach this leaf.\n",
    "    \"\"\"\n",
    "\n",
    "    def __init__(self, rows):\n",
    "        self.predictions = class_counts(rows)"
   ]
  },
  {
   "cell_type": "code",
   "execution_count": 30,
   "metadata": {},
   "outputs": [],
   "source": [
    "class Decision_Node:\n",
    "    \"\"\"A Decision Node asks a question.\n",
    "\n",
    "    This holds a reference to the question, and to the two child nodes.\n",
    "    \"\"\"\n",
    "\n",
    "    def __init__(self,\n",
    "                 question,\n",
    "                 true_branch,\n",
    "                 false_branch):\n",
    "        self.question = question\n",
    "        self.true_branch = true_branch\n",
    "        self.false_branch = false_branch"
   ]
  },
  {
   "cell_type": "code",
   "execution_count": 31,
   "metadata": {},
   "outputs": [],
   "source": [
    "def build_tree(rows):\n",
    "    \"\"\"Builds the tree.\n",
    "\n",
    "    Rules of recursion: 1) Believe that it works. 2) Start by checking\n",
    "    for the base case (no further information gain). 3) Prepare for\n",
    "    giant stack traces.\n",
    "    \"\"\"\n",
    "\n",
    "    # Try partitioing the dataset on each of the unique attribute,\n",
    "    # calculate the information gain,\n",
    "    # and return the question that produces the highest gain.\n",
    "    gain, question = find_best_split(rows)\n",
    "\n",
    "    # Base case: no further info gain\n",
    "    # Since we can ask no further questions,\n",
    "    # we'll return a leaf.\n",
    "    if gain == 0:\n",
    "        return Leaf(rows)\n",
    "\n",
    "    # If we reach here, we have found a useful feature / value\n",
    "    # to partition on.\n",
    "    true_rows, false_rows = partition(rows, question)\n",
    "\n",
    "    # Recursively build the true branch.\n",
    "    true_branch = build_tree(true_rows)\n",
    "\n",
    "    # Recursively build the false branch.\n",
    "    false_branch = build_tree(false_rows)\n",
    "\n",
    "    # Return a Question node.\n",
    "    # This records the best feature / value to ask at this point,\n",
    "    # as well as the branches to follow\n",
    "    # dependingo on the answer.\n",
    "    return Decision_Node(question, true_branch, false_branch)\n"
   ]
  },
  {
   "cell_type": "code",
   "execution_count": 32,
   "metadata": {},
   "outputs": [],
   "source": [
    "def print_tree(node, spacing=\"\"):\n",
    "    \"\"\"World's most elegant tree printing function.\"\"\"\n",
    "\n",
    "    # Base case: we've reached a leaf\n",
    "    if isinstance(node, Leaf):\n",
    "        print (spacing + \"Predict\", node.predictions)\n",
    "        return\n",
    "\n",
    "    # Print the question at this node\n",
    "    print (spacing + str(node.question))\n",
    "\n",
    "    # Call this function recursively on the true branch\n",
    "    print (spacing + '--> True:')\n",
    "    print_tree(node.true_branch, spacing + \"  \")\n",
    "\n",
    "    # Call this function recursively on the false branch\n",
    "    print (spacing + '--> False:')\n",
    "    print_tree(node.false_branch, spacing + \"  \")"
   ]
  },
  {
   "cell_type": "code",
   "execution_count": 33,
   "metadata": {},
   "outputs": [],
   "source": [
    "my_tree = build_tree(training_data)"
   ]
  },
  {
   "cell_type": "code",
   "execution_count": 34,
   "metadata": {},
   "outputs": [
    {
     "name": "stdout",
     "output_type": "stream",
     "text": [
      "Is diameter >= 3?\n",
      "--> True:\n",
      "  Is color == Yellow?\n",
      "  --> True:\n",
      "    Predict {'Apple': 1, 'Lemon': 1}\n",
      "  --> False:\n",
      "    Predict {'Apple': 1}\n",
      "--> False:\n",
      "  Predict {'Grape': 2}\n"
     ]
    }
   ],
   "source": [
    "print_tree(my_tree)"
   ]
  },
  {
   "cell_type": "code",
   "execution_count": 35,
   "metadata": {},
   "outputs": [],
   "source": [
    "def classify(row, node):\n",
    "    \"\"\"See the 'rules of recursion' above.\"\"\"\n",
    "\n",
    "    # Base case: we've reached a leaf\n",
    "    if isinstance(node, Leaf):\n",
    "        return node.predictions\n",
    "\n",
    "    # Decide whether to follow the true-branch or the false-branch.\n",
    "    # Compare the feature / value stored in the node,\n",
    "    # to the example we're considering.\n",
    "    if node.question.match(row):\n",
    "        return classify(row, node.true_branch)\n",
    "    else:\n",
    "        return classify(row, node.false_branch)\n"
   ]
  },
  {
   "cell_type": "code",
   "execution_count": 36,
   "metadata": {},
   "outputs": [
    {
     "data": {
      "text/plain": [
       "{'Apple': 1}"
      ]
     },
     "execution_count": 36,
     "metadata": {},
     "output_type": "execute_result"
    }
   ],
   "source": [
    "#######\n",
    "# Demo:\n",
    "# The tree predicts the 1st row of our\n",
    "# training data is an apple with confidence 1.\n",
    "classify(training_data[0], my_tree)\n",
    "#######"
   ]
  },
  {
   "cell_type": "code",
   "execution_count": 37,
   "metadata": {},
   "outputs": [],
   "source": [
    "def print_leaf(counts):\n",
    "    \"\"\"A nicer way to print the predictions at a leaf.\"\"\"\n",
    "    total = sum(counts.values()) * 1.0\n",
    "    probs = {}\n",
    "    for lbl in counts.keys():\n",
    "        probs[lbl] = str(int(counts[lbl] / total * 100)) + \"%\"\n",
    "    return probs"
   ]
  },
  {
   "cell_type": "code",
   "execution_count": 38,
   "metadata": {},
   "outputs": [
    {
     "data": {
      "text/plain": [
       "{'Apple': '100%'}"
      ]
     },
     "execution_count": 38,
     "metadata": {},
     "output_type": "execute_result"
    }
   ],
   "source": [
    "#######\n",
    "# Demo:\n",
    "# Printing that a bit nicer\n",
    "print_leaf(classify(training_data[0], my_tree))\n",
    "######"
   ]
  },
  {
   "cell_type": "code",
   "execution_count": 39,
   "metadata": {},
   "outputs": [
    {
     "data": {
      "text/plain": [
       "{'Apple': '50%', 'Lemon': '50%'}"
      ]
     },
     "execution_count": 39,
     "metadata": {},
     "output_type": "execute_result"
    }
   ],
   "source": [
    "#######\n",
    "# Demo:\n",
    "# On the second example, the confidence is lower\n",
    "print_leaf(classify(training_data[1], my_tree))\n",
    "#######"
   ]
  },
  {
   "cell_type": "code",
   "execution_count": 40,
   "metadata": {},
   "outputs": [],
   "source": [
    "# Evaluate\n",
    "testing_data = [\n",
    "    ['Green', 3, 'Apple'],\n",
    "    ['Yellow', 4, 'Apple'],\n",
    "    ['Red', 2, 'Grape'],\n",
    "    ['Red', 1, 'Grape'],\n",
    "    ['Yellow', 3, 'Lemon'],\n",
    "]"
   ]
  },
  {
   "cell_type": "code",
   "execution_count": 41,
   "metadata": {},
   "outputs": [
    {
     "name": "stdout",
     "output_type": "stream",
     "text": [
      "Actual: Apple. Predicted: {'Apple': '100%'}\n",
      "Actual: Apple. Predicted: {'Apple': '50%', 'Lemon': '50%'}\n",
      "Actual: Grape. Predicted: {'Grape': '100%'}\n",
      "Actual: Grape. Predicted: {'Grape': '100%'}\n",
      "Actual: Lemon. Predicted: {'Apple': '50%', 'Lemon': '50%'}\n"
     ]
    }
   ],
   "source": [
    "for row in testing_data:\n",
    "    print (\"Actual: %s. Predicted: %s\" %\n",
    "           (row[-1], print_leaf(classify(row, my_tree))))"
   ]
  },
  {
   "cell_type": "markdown",
   "metadata": {},
   "source": [
    "## Trabajo práctico\n",
    "\n",
    "1) Construir un pequeño dataset de entrenamiento para resolver un problema de clasificación simple (usted lo elige)\n",
    "\n",
    "2) Utilizar la implementación de CART (código anterior) para medir los coeficientes de 'Gini impurity' e 'Information Gain' para ciertas preguntas y ciertos nodos\n",
    "\n",
    "3) Pedir a un compañero de construir un pequeño dataset de test siguiendo el mismo formato que el dataset de entrenamiento\n",
    "\n",
    "4) Visualizar el arbol de decisión aprendido\n",
    "\n",
    "5) Evaluar la Precision y el Recall de su modelo\n"
   ]
  },
  {
   "cell_type": "code",
   "execution_count": 168,
   "metadata": {
    "scrolled": true
   },
   "outputs": [
    {
     "name": "stdout",
     "output_type": "stream",
     "text": [
      "[[36.0 2.0 'no' 'yes' 'no' 'no' 'no']\n",
      " [37.0 9.0 'no' 'no' 'yes' 'yes' 'no']\n",
      " [40.0 7.0 'yes' 'yes' 'yes' 'yes' 'no']\n",
      " [37.0 9.0 'no' 'no' 'yes' 'yes' 'no']\n",
      " [38.0 0.0 'no' 'yes' 'yes' 'no' 'yes']\n",
      " [36.0 6.0 'no' 'yes' 'no' 'no' 'no']\n",
      " [36.0 0.0 'no' 'no' 'yes' 'yes' 'yes']\n",
      " [36.0 7.0 'no' 'no' 'yes' 'yes' 'yes']\n",
      " [41.0 4.0 'no' 'yes' 'yes' 'no' 'yes']\n",
      " [37.0 5.0 'no' 'no' 'yes' 'yes' 'yes']\n",
      " [37.0 4.0 'no' 'no' 'yes' 'no' 'no']\n",
      " [40.0 7.0 'no' 'no' 'no' 'no' 'no']\n",
      " [37.0 5.0 'no' 'no' 'yes' 'no' 'no']\n",
      " [40.0 0.0 'yes' 'yes' 'no' 'yes' 'no']\n",
      " [41.0 2.0 'yes' 'yes' 'no' 'yes' 'no']\n",
      " [40.0 0.0 'yes' 'yes' 'yes' 'yes' 'yes']\n",
      " [37.0 0.0 'no' 'no' 'yes' 'yes' 'no']\n",
      " [36.0 7.0 'no' 'yes' 'no' 'no' 'no']\n",
      " [40.0 4.0 'yes' 'yes' 'no' 'yes' 'no']\n",
      " [36.0 6.0 'no' 'no' 'yes' 'yes' 'yes']\n",
      " [37.0 3.0 'no' 'no' 'yes' 'yes' 'yes']\n",
      " [38.0 3.0 'no' 'yes' 'yes' 'no' 'yes']\n",
      " [39.0 7.0 'no' 'yes' 'yes' 'no' 'yes']\n",
      " [37.0 6.0 'no' 'no' 'yes' 'yes' 'no']\n",
      " [37.0 3.0 'no' 'no' 'yes' 'no' 'no']\n",
      " [39.0 0.0 'no' 'yes' 'yes' 'no' 'yes']\n",
      " [40.0 2.0 'yes' 'yes' 'yes' 'yes' 'yes']\n",
      " [37.0 2.0 'no' 'no' 'yes' 'no' 'no']\n",
      " [40.0 0.0 'no' 'no' 'no' 'no' 'no']\n",
      " [36.0 9.0 'no' 'yes' 'no' 'no' 'no']\n",
      " [41.0 3.0 'yes' 'yes' 'yes' 'yes' 'no']\n",
      " [37.0 9.0 'no' 'yes' 'no' 'no' 'no']\n",
      " [36.0 3.0 'no' 'no' 'yes' 'yes' 'yes']\n",
      " [37.0 1.0 'no' 'yes' 'no' 'no' 'no']\n",
      " [40.0 4.0 'yes' 'yes' 'yes' 'yes' 'no']\n",
      " [40.0 6.0 'yes' 'yes' 'no' 'yes' 'no']\n",
      " [38.0 7.0 'no' 'yes' 'yes' 'no' 'yes']\n",
      " [40.0 4.0 'no' 'no' 'no' 'no' 'no']\n",
      " [40.0 6.0 'no' 'no' 'no' 'no' 'no']\n",
      " [40.0 7.0 'yes' 'yes' 'no' 'yes' 'no']\n",
      " [40.0 6.0 'yes' 'yes' 'yes' 'yes' 'yes']\n",
      " [41.0 5.0 'no' 'yes' 'yes' 'no' 'yes']\n",
      " [41.0 2.0 'no' 'yes' 'yes' 'no' 'yes']\n",
      " [40.0 7.0 'no' 'yes' 'yes' 'no' 'yes']\n",
      " [41.0 1.0 'yes' 'yes' 'no' 'yes' 'no']\n",
      " [37.0 0.0 'no' 'yes' 'no' 'no' 'no']\n",
      " [37.0 5.0 'no' 'yes' 'no' 'no' 'no']\n",
      " [40.0 2.0 'yes' 'yes' 'no' 'yes' 'no']\n",
      " [41.0 5.0 'no' 'no' 'no' 'no' 'no']\n",
      " [37.0 1.0 'no' 'no' 'yes' 'no' 'no']\n",
      " [37.0 7.0 'no' 'yes' 'no' 'no' 'no']\n",
      " [40.0 0.0 'no' 'no' 'no' 'no' 'no']\n",
      " [37.0 1.0 'no' 'no' 'yes' 'yes' 'yes']\n",
      " [37.0 0.0 'no' 'no' 'yes' 'yes' 'yes']\n",
      " [37.0 7.0 'no' 'no' 'yes' 'no' 'no']\n",
      " [37.0 7.0 'no' 'no' 'yes' 'yes' 'no']\n",
      " [37.0 0.0 'no' 'no' 'yes' 'no' 'no']\n",
      " [40.0 2.0 'no' 'no' 'no' 'no' 'no']\n",
      " [40.0 3.0 'no' 'yes' 'yes' 'no' 'yes']\n",
      " [37.0 0.0 'no' 'no' 'yes' 'yes' 'yes']\n",
      " [40.0 8.0 'no' 'yes' 'yes' 'no' 'yes']\n",
      " [36.0 2.0 'no' 'no' 'yes' 'yes' 'yes']\n",
      " [41.0 1.0 'yes' 'yes' 'yes' 'yes' 'yes']\n",
      " [39.0 4.0 'no' 'yes' 'yes' 'no' 'yes']\n",
      " [38.0 0.0 'no' 'yes' 'yes' 'no' 'yes']\n",
      " [36.0 6.0 'no' 'no' 'yes' 'yes' 'yes']\n",
      " [41.0 5.0 'no' 'yes' 'yes' 'no' 'yes']\n",
      " [40.0 9.0 'yes' 'yes' 'yes' 'yes' 'no']\n",
      " [40.0 0.0 'yes' 'yes' 'yes' 'yes' 'yes']\n",
      " [37.0 0.0 'no' 'no' 'yes' 'yes' 'yes']\n",
      " [40.0 1.0 'yes' 'yes' 'yes' 'yes' 'no']\n",
      " [37.0 5.0 'no' 'no' 'yes' 'yes' 'no']\n",
      " [41.0 1.0 'yes' 'yes' 'yes' 'yes' 'no']\n",
      " [37.0 8.0 'no' 'no' 'yes' 'yes' 'yes']\n",
      " [37.0 7.0 'no' 'no' 'yes' 'yes' 'no']\n",
      " [40.0 9.0 'yes' 'yes' 'yes' 'yes' 'no']\n",
      " [38.0 5.0 'no' 'yes' 'yes' 'no' 'yes']\n",
      " [37.0 9.0 'no' 'no' 'yes' 'yes' 'yes']\n",
      " [40.0 7.0 'yes' 'yes' 'yes' 'yes' 'yes']\n",
      " [41.0 5.0 'yes' 'yes' 'no' 'yes' 'no']\n",
      " [40.0 0.0 'no' 'yes' 'yes' 'no' 'yes']\n",
      " [37.0 8.0 'no' 'yes' 'no' 'no' 'no']\n",
      " [37.0 5.0 'no' 'no' 'yes' 'no' 'no']\n",
      " [40.0 4.0 'yes' 'yes' 'yes' 'yes' 'no']\n",
      " [35.0 9.0 'no' 'no' 'yes' 'yes' 'yes']\n",
      " [41.0 0.0 'yes' 'yes' 'yes' 'yes' 'yes']\n",
      " [37.0 2.0 'no' 'yes' 'no' 'no' 'no']\n",
      " [40.0 9.0 'no' 'yes' 'yes' 'no' 'yes']\n",
      " [37.0 9.0 'no' 'no' 'yes' 'no' 'no']\n",
      " [40.0 4.0 'yes' 'yes' 'yes' 'yes' 'yes']\n",
      " [36.0 8.0 'no' 'no' 'yes' 'yes' 'yes']\n",
      " [37.0 3.0 'no' 'yes' 'no' 'no' 'no']\n",
      " [38.0 9.0 'no' 'yes' 'yes' 'no' 'yes']\n",
      " [38.0 1.0 'no' 'yes' 'yes' 'no' 'yes']\n",
      " [41.0 0.0 'yes' 'yes' 'no' 'yes' 'no']\n",
      " [37.0 6.0 'no' 'no' 'yes' 'yes' 'yes']]\n",
      "['no' 'no' 'no' 'no' 'yes' 'no' 'yes' 'yes' 'yes' 'yes' 'no' 'no' 'no'\n",
      " 'no' 'no' 'yes' 'no' 'no' 'no' 'yes' 'yes' 'yes' 'yes' 'no' 'no' 'yes'\n",
      " 'yes' 'no' 'no' 'no' 'no' 'no' 'yes' 'no' 'no' 'no' 'yes' 'no' 'no' 'no'\n",
      " 'yes' 'yes' 'yes' 'yes' 'no' 'no' 'no' 'no' 'no' 'no' 'no' 'no' 'yes'\n",
      " 'yes' 'no' 'no' 'no' 'no' 'yes' 'yes' 'yes' 'yes' 'yes' 'yes' 'yes' 'yes'\n",
      " 'yes' 'no' 'yes' 'yes' 'no' 'no' 'no' 'yes' 'no' 'no' 'yes' 'yes' 'yes'\n",
      " 'no' 'yes' 'no' 'no' 'no' 'yes' 'yes' 'no' 'yes' 'no' 'yes' 'yes' 'no'\n",
      " 'yes' 'yes' 'no' 'yes']\n"
     ]
    }
   ],
   "source": [
    "## Carga del dataset\n",
    "## Cambio de features\n",
    "## Split del dataset\n",
    "\n",
    "\n",
    "import numpy as np  \n",
    "import matplotlib.pyplot as plt  \n",
    "import pandas as pd  \n",
    "from sklearn.model_selection import train_test_split  \n",
    "from sklearn.preprocessing import StandardScaler  \n",
    "from sklearn.neighbors import KNeighborsClassifier  \n",
    "from sklearn.metrics import classification_report, confusion_matrix  \n",
    "\n",
    "header = ['a1', 'a2', 'a3', 'a4', 'a5', 'a6', 'd1','d2']\n",
    "\n",
    "dataset = pd.read_csv('diagnosis.csv')\n",
    "\n",
    "dataset.head()\n",
    "\n",
    "X = dataset.iloc[:, :-1].values\n",
    "y = dataset.iloc[:, 6].values \n",
    "\n",
    "X_train, X_test, y_train, y_test = train_test_split(X, y, test_size=0.20) \n",
    "\n",
    "print(X_train)\n",
    "print(y_train)\n"
   ]
  },
  {
   "cell_type": "code",
   "execution_count": 184,
   "metadata": {},
   "outputs": [],
   "source": [
    "## Funciones\n",
    "\n",
    "def unique_vals(rows, col):\n",
    "    \"\"\"Find the unique values for a column in a dataset.\"\"\"\n",
    "    return set([row[col] for row in rows])\n",
    "\n",
    "def class_counts(rows):\n",
    "    \"\"\"Counts the number of each type of example in a dataset.\"\"\"\n",
    "    counts = {}  # a dictionary of label -> count.\n",
    "    for row in rows:\n",
    "        # in our dataset format, the label is always the last column\n",
    "        label = row[-1]\n",
    "        if label not in counts:\n",
    "            counts[label] = 0\n",
    "        counts[label] += 1\n",
    "    return counts\n",
    "\n",
    "class_counts(X_train)\n",
    "\n",
    "def is_numeric(value):\n",
    "    \"\"\"Test if a value is numeric.\"\"\"\n",
    "    return isinstance(value, int) or isinstance(value, float)\n",
    "\n",
    "class Question:\n",
    "    \"\"\"A Question is used to partition a dataset.\n",
    "\n",
    "    This class just records a 'column number' (e.g., 0 for Color) and a\n",
    "    'column value' (e.g., Green). The 'match' method is used to compare\n",
    "    the feature value in an example to the feature value stored in the\n",
    "    question. See the demo below.\n",
    "    \"\"\"\n",
    "\n",
    "    def __init__(self, column, value):\n",
    "        self.column = column\n",
    "        self.value = value\n",
    "\n",
    "    def match(self, example):\n",
    "        # Compare the feature value in an example to the\n",
    "        # feature value in this question.\n",
    "        val = example[self.column]\n",
    "        if is_numeric(val):\n",
    "            return val >= self.value\n",
    "        else:\n",
    "            return val == self.value\n",
    "\n",
    "    def __repr__(self):\n",
    "        # This is just a helper method to print\n",
    "        # the question in a readable format.\n",
    "        condition = \"==\"\n",
    "        if is_numeric(self.value):\n",
    "            condition = \">=\"\n",
    "        return \"Is %s %s %s?\" % (\n",
    "            header[self.column], condition, str(self.value))\n",
    "    \n",
    "def partition(rows, question):\n",
    "    \"\"\"Partitions a dataset.\n",
    "\n",
    "    For each row in the dataset, check if it matches the question. If\n",
    "    so, add it to 'true rows', otherwise, add it to 'false rows'.\n",
    "    \"\"\"\n",
    "    true_rows, false_rows = [], []\n",
    "    for row in rows:\n",
    "        if question.match(row):\n",
    "            true_rows.append(row)\n",
    "        else:\n",
    "            false_rows.append(row)\n",
    "    return true_rows, false_rows\n",
    "\n",
    "def gini(rows):\n",
    "    \"\"\"Calculate the Gini Impurity for a list of rows.\n",
    "\n",
    "    There are a few different ways to do this, I thought this one was\n",
    "    the most concise. See:\n",
    "    https://en.wikipedia.org/wiki/Decision_tree_learning#Gini_impurity\n",
    "    \"\"\"\n",
    "    counts = class_counts(rows)\n",
    "    impurity = 1\n",
    "    for lbl in counts:\n",
    "        prob_of_lbl = counts[lbl] / float(len(rows))\n",
    "        impurity -= prob_of_lbl**2\n",
    "    return impurity\n",
    "\n",
    "def info_gain(left, right, current_uncertainty):\n",
    "    \"\"\"Information Gain.\n",
    "\n",
    "    The uncertainty of the starting node, minus the weighted impurity of\n",
    "    two child nodes.\n",
    "    \"\"\"\n",
    "    p = float(len(left)) / (len(left) + len(right))\n",
    "    return current_uncertainty - p * gini(left) - (1 - p) * gini(right)\n"
   ]
  },
  {
   "cell_type": "code",
   "execution_count": 196,
   "metadata": {},
   "outputs": [
    {
     "data": {
      "text/plain": [
       "0.4965277777777779"
      ]
     },
     "execution_count": 196,
     "metadata": {},
     "output_type": "execute_result"
    }
   ],
   "source": [
    "current_uncertainty = gini(X_train)\n",
    "current_uncertainty"
   ]
  },
  {
   "cell_type": "code",
   "execution_count": 198,
   "metadata": {},
   "outputs": [
    {
     "data": {
      "text/plain": [
       "0.013476134585289734"
      ]
     },
     "execution_count": 198,
     "metadata": {},
     "output_type": "execute_result"
    }
   ],
   "source": [
    "true_rows, false_rows = partition(X_train, Question(2, 'yes'))\n",
    "info_gain(true_rows, false_rows, current_uncertainty)"
   ]
  },
  {
   "cell_type": "code",
   "execution_count": 199,
   "metadata": {},
   "outputs": [
    {
     "data": {
      "text/plain": [
       "0.013476134585289679"
      ]
     },
     "execution_count": 199,
     "metadata": {},
     "output_type": "execute_result"
    }
   ],
   "source": [
    "true_rows, false_rows = partition(X_train, Question(2, 'no'))\n",
    "info_gain(true_rows, false_rows, current_uncertainty)"
   ]
  },
  {
   "cell_type": "code",
   "execution_count": 204,
   "metadata": {},
   "outputs": [
    {
     "data": {
      "text/plain": [
       "0.011451525054466366"
      ]
     },
     "execution_count": 204,
     "metadata": {},
     "output_type": "execute_result"
    }
   ],
   "source": [
    "true_rows, false_rows = partition(X_train, Question(0, 38))\n",
    "info_gain(true_rows, false_rows, current_uncertainty)"
   ]
  },
  {
   "cell_type": "code",
   "execution_count": 221,
   "metadata": {},
   "outputs": [
    {
     "name": "stdout",
     "output_type": "stream",
     "text": [
      "[[15  5]\n",
      " [ 6 10]]\n",
      "             precision    recall  f1-score   support\n",
      "\n",
      "          0       0.71      0.75      0.73        20\n",
      "          1       0.67      0.62      0.65        16\n",
      "\n",
      "avg / total       0.69      0.69      0.69        36\n",
      "\n"
     ]
    }
   ],
   "source": [
    "from sklearn.cross_validation import train_test_split\n",
    "import warnings\n",
    "warnings.filterwarnings('ignore')\n",
    "import numpy as np  \n",
    "import matplotlib.pyplot as plt  \n",
    "import pandas as pd  \n",
    "\n",
    "names = ['a1', 'a2', 'a3', 'a4', 'a5', 'a6', 'd1','d2']\n",
    "\n",
    "dataset = pd.read_csv('diagnosis.csv')\n",
    "n = {'yes' : 1, 'no' : 0}\n",
    "dataset['a3'] = dataset['a3'].map(n)\n",
    "dataset['a4'] = dataset['a4'].map(n)\n",
    "dataset['a5'] = dataset['a5'].map(n)\n",
    "dataset['a6'] = dataset['a6'].map(n)\n",
    "dataset['d1'] = dataset['d1'].map(n)\n",
    "dataset.head()\n",
    "\n",
    "X = dataset.iloc[:, :-2].values\n",
    "y = dataset.iloc[:, 6].values \n",
    "\n",
    "X_train, X_test, y_train, y_test = train_test_split(X, y, test_size = .3, random_state=25)\n",
    "\n",
    "from sklearn import tree\n",
    "#Entrenamiento\n",
    "clf = tree.DecisionTreeClassifier()\n",
    "clf = clf.fit(X_train,y_train)\n",
    "#Predicciones\n",
    "y_pred = clf.predict(X_test)\n",
    "#Evaluación del rendimiento del clasificador\n",
    "from sklearn.metrics import confusion_matrix\n",
    "confusion_matrix = confusion_matrix(y_test, y_pred)\n",
    "print(confusion_matrix)\n",
    "#Print de la matriz de confusión\n",
    "from sklearn.metrics import classification_report\n",
    "print(classification_report(y_test, y_pred))"
   ]
  },
  {
   "cell_type": "code",
   "execution_count": 225,
   "metadata": {},
   "outputs": [],
   "source": [
    "from sklearn.externals.six import StringIO\n",
    "import pydot #sudo python3.6 -m pip install pydot\n",
    "\n",
    "dot_data = StringIO()\n",
    "\n",
    "features=['a1', 'a2', 'a3', 'a4', 'a5', 'a6']\n",
    "classes=['yes','no']\n",
    "tree.export_graphviz(clf,out_file=dot_data,feature_names=features,class_names=classes, filled=True, \n",
    "                     rounded=True, impurity=False)\n",
    "\n",
    "graph = pydot.graph_from_dot_data(dot_data.getvalue())\n",
    "graph[0].write_png('modelo1.png')"
   ]
  },
  {
   "cell_type": "markdown",
   "metadata": {},
   "source": [
    "<img src=\"modelo1.png\">Modelo DecisionTree</img>"
   ]
  },
  {
   "cell_type": "code",
   "execution_count": null,
   "metadata": {},
   "outputs": [],
   "source": []
  }
 ],
 "metadata": {
  "kernelspec": {
   "display_name": "Python 3",
   "language": "python",
   "name": "python3"
  },
  "language_info": {
   "codemirror_mode": {
    "name": "ipython",
    "version": 3
   },
   "file_extension": ".py",
   "mimetype": "text/x-python",
   "name": "python",
   "nbconvert_exporter": "python",
   "pygments_lexer": "ipython3",
   "version": "3.6.5"
  }
 },
 "nbformat": 4,
 "nbformat_minor": 2
}
